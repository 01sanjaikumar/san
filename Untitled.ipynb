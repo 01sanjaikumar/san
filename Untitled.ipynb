{
 "cells": [
  {
   "cell_type": "code",
   "execution_count": 12,
   "id": "d75010f2",
   "metadata": {},
   "outputs": [],
   "source": [
    "import numpy as np\n",
    "import tensorflow as tf\n",
    "from tensorflow.keras.models import Sequential\n",
    "from tensorflow.keras.layers import Dense\n",
    "from sklearn.model_selection import train_test_split\n",
    "import pandas as pd"
   ]
  },
  {
   "cell_type": "code",
   "execution_count": 4,
   "id": "14ec16e1",
   "metadata": {},
   "outputs": [],
   "source": [
    "df=pd.read_csv('House Price India.csv')"
   ]
  },
  {
   "cell_type": "code",
   "execution_count": 5,
   "id": "f0151aef",
   "metadata": {},
   "outputs": [],
   "source": [
    "df.drop(['Date'], axis=1, inplace=True)\n"
   ]
  },
  {
   "cell_type": "code",
   "execution_count": 7,
   "id": "6ffed597",
   "metadata": {},
   "outputs": [
    {
     "data": {
      "text/plain": [
       "Index(['id', 'number of bedrooms', 'number of bathrooms', 'living area',\n",
       "       'lot area', 'number of floors', 'waterfront present', 'number of views',\n",
       "       'condition of the house', 'grade of the house',\n",
       "       'Area of the house(excluding basement)', 'Area of the basement',\n",
       "       'Built Year', 'Renovation Year', 'Postal Code', 'Lattitude',\n",
       "       'Longitude', 'living_area_renov', 'lot_area_renov',\n",
       "       'Number of schools nearby', 'Distance from the airport', 'Price'],\n",
       "      dtype='object')"
      ]
     },
     "execution_count": 7,
     "metadata": {},
     "output_type": "execute_result"
    }
   ],
   "source": [
    "df.columns"
   ]
  },
  {
   "cell_type": "code",
   "execution_count": 8,
   "id": "16dcfbe5",
   "metadata": {},
   "outputs": [],
   "source": [
    "df['number of bedrooms'] = df['number of bedrooms'].astype(int)"
   ]
  },
  {
   "cell_type": "code",
   "execution_count": 10,
   "id": "eb4e1b9e",
   "metadata": {},
   "outputs": [],
   "source": [
    "X = df.drop(['Price', 'id'], axis=1)\n",
    "y = df['Price']\n"
   ]
  },
  {
   "cell_type": "code",
   "execution_count": 13,
   "id": "b7a8eb86",
   "metadata": {},
   "outputs": [],
   "source": [
    "\n",
    "X_train, X_test, y_train, y_test = train_test_split(X, y, test_size=0.2, random_state=42)\n"
   ]
  },
  {
   "cell_type": "code",
   "execution_count": 14,
   "id": "a70dc302",
   "metadata": {},
   "outputs": [],
   "source": [
    "from sklearn.preprocessing import StandardScaler\n",
    "scaler = StandardScaler()\n",
    "X_train = scaler.fit_transform(X_train)\n",
    "X_test = scaler.transform(X_test)\n"
   ]
  },
  {
   "cell_type": "code",
   "execution_count": 15,
   "id": "9c9fc682",
   "metadata": {},
   "outputs": [],
   "source": [
    "import tensorflow as tf\n",
    "from tensorflow.keras.models import Sequential\n",
    "from tensorflow.keras.layers import Dense, Dropout\n"
   ]
  },
  {
   "cell_type": "code",
   "execution_count": 16,
   "id": "7d710f26",
   "metadata": {},
   "outputs": [],
   "source": [
    "model = Sequential()\n",
    "model.add(Dense(128, activation='relu', input_dim=X_train.shape[1]))\n",
    "model.add(Dropout(0.2))\n",
    "model.add(Dense(64, activation='relu'))\n",
    "model.add(Dropout(0.2))\n",
    "model.add(Dense(32, activation='relu'))\n",
    "model.add(Dropout(0.2))\n",
    "model.add(Dense(1, activation='linear'))\n"
   ]
  },
  {
   "cell_type": "code",
   "execution_count": 17,
   "id": "052dc15a",
   "metadata": {},
   "outputs": [],
   "source": [
    "model.compile(optimizer='adam', loss='mse', metrics=['mae'])\n"
   ]
  },
  {
   "cell_type": "code",
   "execution_count": 18,
   "id": "5f6912be",
   "metadata": {},
   "outputs": [
    {
     "name": "stdout",
     "output_type": "stream",
     "text": [
      "Epoch 1/50\n",
      "366/366 [==============================] - 5s 5ms/step - loss: 399046246400.0000 - mae: 521672.8438 - val_loss: 308553580544.0000 - val_mae: 454932.9688\n",
      "Epoch 2/50\n",
      "366/366 [==============================] - 2s 4ms/step - loss: 143298510848.0000 - mae: 282422.6250 - val_loss: 70453387264.0000 - val_mae: 193250.7969\n",
      "Epoch 3/50\n",
      "366/366 [==============================] - 2s 4ms/step - loss: 71410040832.0000 - mae: 189781.2500 - val_loss: 57824010240.0000 - val_mae: 172179.3906\n",
      "Epoch 4/50\n",
      "366/366 [==============================] - 2s 4ms/step - loss: 62033899520.0000 - mae: 175077.0000 - val_loss: 50499137536.0000 - val_mae: 158050.8438\n",
      "Epoch 5/50\n",
      "366/366 [==============================] - 2s 4ms/step - loss: 55890587648.0000 - mae: 163294.9688 - val_loss: 44641120256.0000 - val_mae: 145708.1562\n",
      "Epoch 6/50\n",
      "366/366 [==============================] - 2s 4ms/step - loss: 52413054976.0000 - mae: 152612.5000 - val_loss: 40604508160.0000 - val_mae: 134842.9062\n",
      "Epoch 7/50\n",
      "366/366 [==============================] - 2s 4ms/step - loss: 48921448448.0000 - mae: 145757.1094 - val_loss: 37985804288.0000 - val_mae: 126068.6875\n",
      "Epoch 8/50\n",
      "366/366 [==============================] - 2s 4ms/step - loss: 44805771264.0000 - mae: 137730.8438 - val_loss: 35767164928.0000 - val_mae: 119612.6719\n",
      "Epoch 9/50\n",
      "366/366 [==============================] - 2s 4ms/step - loss: 45727399936.0000 - mae: 134836.2656 - val_loss: 34134792192.0000 - val_mae: 115962.9219\n",
      "Epoch 10/50\n",
      "366/366 [==============================] - 2s 4ms/step - loss: 44887498752.0000 - mae: 133079.0469 - val_loss: 33564782592.0000 - val_mae: 113394.5625\n",
      "Epoch 11/50\n",
      "366/366 [==============================] - 2s 4ms/step - loss: 43342278656.0000 - mae: 130484.4531 - val_loss: 32604016640.0000 - val_mae: 112410.3203\n",
      "Epoch 12/50\n",
      "366/366 [==============================] - 2s 4ms/step - loss: 43932028928.0000 - mae: 130650.2188 - val_loss: 32298702848.0000 - val_mae: 110909.2188\n",
      "Epoch 13/50\n",
      "366/366 [==============================] - 2s 4ms/step - loss: 42707918848.0000 - mae: 128960.0859 - val_loss: 31923664896.0000 - val_mae: 109933.6562\n",
      "Epoch 14/50\n",
      "366/366 [==============================] - 2s 4ms/step - loss: 41967525888.0000 - mae: 128148.6641 - val_loss: 31784347648.0000 - val_mae: 109001.3359\n",
      "Epoch 15/50\n",
      "366/366 [==============================] - 2s 4ms/step - loss: 43552149504.0000 - mae: 129425.2266 - val_loss: 31732938752.0000 - val_mae: 108469.7344\n",
      "Epoch 16/50\n",
      "366/366 [==============================] - 2s 4ms/step - loss: 41987121152.0000 - mae: 128844.8281 - val_loss: 31484211200.0000 - val_mae: 107991.0469\n",
      "Epoch 17/50\n",
      "366/366 [==============================] - 2s 4ms/step - loss: 42963554304.0000 - mae: 128133.1016 - val_loss: 31712425984.0000 - val_mae: 108002.5469\n",
      "Epoch 18/50\n",
      "366/366 [==============================] - 2s 4ms/step - loss: 40843927552.0000 - mae: 127036.4219 - val_loss: 31128186880.0000 - val_mae: 107489.3438\n",
      "Epoch 19/50\n",
      "366/366 [==============================] - 2s 4ms/step - loss: 42453245952.0000 - mae: 127864.4141 - val_loss: 31202715648.0000 - val_mae: 106892.7734\n",
      "Epoch 20/50\n",
      "366/366 [==============================] - 2s 4ms/step - loss: 41487826944.0000 - mae: 126948.2891 - val_loss: 30742071296.0000 - val_mae: 107397.5625\n",
      "Epoch 21/50\n",
      "366/366 [==============================] - 2s 4ms/step - loss: 41555419136.0000 - mae: 127152.4297 - val_loss: 30772211712.0000 - val_mae: 107020.2656\n",
      "Epoch 22/50\n",
      "366/366 [==============================] - 2s 4ms/step - loss: 40204926976.0000 - mae: 126180.7969 - val_loss: 30708670464.0000 - val_mae: 106498.1094\n",
      "Epoch 23/50\n",
      "366/366 [==============================] - 2s 4ms/step - loss: 40844361728.0000 - mae: 127955.7500 - val_loss: 30711672832.0000 - val_mae: 105915.9062\n",
      "Epoch 24/50\n",
      "366/366 [==============================] - 2s 4ms/step - loss: 39176249344.0000 - mae: 125692.6406 - val_loss: 30911870976.0000 - val_mae: 106249.6328\n",
      "Epoch 25/50\n",
      "366/366 [==============================] - 2s 4ms/step - loss: 40599351296.0000 - mae: 126752.7578 - val_loss: 30642161664.0000 - val_mae: 106136.4297\n",
      "Epoch 26/50\n",
      "366/366 [==============================] - 2s 4ms/step - loss: 39771652096.0000 - mae: 125108.0859 - val_loss: 30752858112.0000 - val_mae: 105801.8906\n",
      "Epoch 27/50\n",
      "366/366 [==============================] - 2s 4ms/step - loss: 38937980928.0000 - mae: 124094.6953 - val_loss: 30473465856.0000 - val_mae: 105689.8359\n",
      "Epoch 28/50\n",
      "366/366 [==============================] - 2s 4ms/step - loss: 39651008512.0000 - mae: 124868.3594 - val_loss: 30185568256.0000 - val_mae: 105833.8828\n",
      "Epoch 29/50\n",
      "366/366 [==============================] - 2s 4ms/step - loss: 39710547968.0000 - mae: 123913.7734 - val_loss: 30063845376.0000 - val_mae: 105529.1406\n",
      "Epoch 30/50\n",
      "366/366 [==============================] - 2s 4ms/step - loss: 39940571136.0000 - mae: 125911.2031 - val_loss: 30544640000.0000 - val_mae: 105438.1641\n",
      "Epoch 31/50\n",
      "366/366 [==============================] - 2s 4ms/step - loss: 39945158656.0000 - mae: 124395.6797 - val_loss: 29881483264.0000 - val_mae: 105470.1250\n",
      "Epoch 32/50\n",
      "366/366 [==============================] - 2s 4ms/step - loss: 39511986176.0000 - mae: 125243.6797 - val_loss: 30230837248.0000 - val_mae: 105195.6016\n",
      "Epoch 33/50\n",
      "366/366 [==============================] - 2s 4ms/step - loss: 39576797184.0000 - mae: 125065.3828 - val_loss: 30132580352.0000 - val_mae: 105114.4062\n",
      "Epoch 34/50\n",
      "366/366 [==============================] - 2s 4ms/step - loss: 39036305408.0000 - mae: 124298.7812 - val_loss: 29980833792.0000 - val_mae: 105154.4922\n",
      "Epoch 35/50\n",
      "366/366 [==============================] - 2s 4ms/step - loss: 40256368640.0000 - mae: 125054.2266 - val_loss: 30010304512.0000 - val_mae: 105053.3438\n",
      "Epoch 36/50\n",
      "366/366 [==============================] - 2s 4ms/step - loss: 39848796160.0000 - mae: 123706.5469 - val_loss: 29823449088.0000 - val_mae: 105407.5547\n",
      "Epoch 37/50\n",
      "366/366 [==============================] - 2s 4ms/step - loss: 38915399680.0000 - mae: 124924.1484 - val_loss: 29778198528.0000 - val_mae: 105236.5391\n",
      "Epoch 38/50\n",
      "366/366 [==============================] - 2s 4ms/step - loss: 37911113728.0000 - mae: 123551.6250 - val_loss: 29716330496.0000 - val_mae: 105160.4844\n",
      "Epoch 39/50\n",
      "366/366 [==============================] - 2s 4ms/step - loss: 38830845952.0000 - mae: 123813.4609 - val_loss: 29632249856.0000 - val_mae: 104887.3203\n",
      "Epoch 40/50\n",
      "366/366 [==============================] - 2s 4ms/step - loss: 36926754816.0000 - mae: 123269.2500 - val_loss: 29579683840.0000 - val_mae: 104701.6562\n",
      "Epoch 41/50\n",
      "366/366 [==============================] - 1s 4ms/step - loss: 38159101952.0000 - mae: 123520.1328 - val_loss: 30032338944.0000 - val_mae: 104527.4844\n",
      "Epoch 42/50\n",
      "366/366 [==============================] - 2s 4ms/step - loss: 38088925184.0000 - mae: 122630.4766 - val_loss: 29454569472.0000 - val_mae: 104896.0625\n",
      "Epoch 43/50\n",
      "366/366 [==============================] - 2s 4ms/step - loss: 37655465984.0000 - mae: 123223.5938 - val_loss: 29555843072.0000 - val_mae: 104341.6562\n",
      "Epoch 44/50\n",
      "366/366 [==============================] - 2s 4ms/step - loss: 39494938624.0000 - mae: 124158.6953 - val_loss: 29245198336.0000 - val_mae: 104931.6094\n",
      "Epoch 45/50\n",
      "366/366 [==============================] - 2s 4ms/step - loss: 39249612800.0000 - mae: 124733.5391 - val_loss: 29561729024.0000 - val_mae: 104500.4219\n",
      "Epoch 46/50\n",
      "366/366 [==============================] - 2s 4ms/step - loss: 35863994368.0000 - mae: 122229.1875 - val_loss: 29812473856.0000 - val_mae: 104300.8359\n",
      "Epoch 47/50\n",
      "366/366 [==============================] - 2s 4ms/step - loss: 38492442624.0000 - mae: 122390.4922 - val_loss: 29642227712.0000 - val_mae: 104744.4922\n",
      "Epoch 48/50\n",
      "366/366 [==============================] - 2s 4ms/step - loss: 37260947456.0000 - mae: 123714.2891 - val_loss: 29556422656.0000 - val_mae: 104426.2734\n",
      "Epoch 49/50\n",
      "366/366 [==============================] - 2s 4ms/step - loss: 38135070720.0000 - mae: 122788.7500 - val_loss: 29426083840.0000 - val_mae: 104050.8438\n",
      "Epoch 50/50\n",
      "366/366 [==============================] - 2s 4ms/step - loss: 37798068224.0000 - mae: 122721.3359 - val_loss: 29069754368.0000 - val_mae: 104527.0469\n"
     ]
    }
   ],
   "source": [
    "history = model.fit(X_train, y_train, epochs=50, batch_size=32, validation_data=(X_test, y_test))\n"
   ]
  },
  {
   "cell_type": "code",
   "execution_count": 19,
   "id": "078210eb",
   "metadata": {},
   "outputs": [
    {
     "name": "stdout",
     "output_type": "stream",
     "text": [
      "92/92 [==============================] - 0s 2ms/step\n"
     ]
    }
   ],
   "source": [
    "y_pred = model.predict(X_test)\n",
    "\n"
   ]
  },
  {
   "cell_type": "code",
   "execution_count": 20,
   "id": "85f6a920",
   "metadata": {},
   "outputs": [
    {
     "name": "stdout",
     "output_type": "stream",
     "text": [
      "92/92 [==============================] - 0s 3ms/step - loss: 29069754368.0000 - mae: 104527.0469\n",
      "Mean Squared Error: 29069754368.0\n",
      "Mean Absolute Error: 104527.046875\n"
     ]
    }
   ],
   "source": [
    "mse, mae = model.evaluate(X_test, y_test)\n",
    "print('Mean Squared Error:', mse)\n",
    "print('Mean Absolute Error:', mae)\n"
   ]
  },
  {
   "cell_type": "code",
   "execution_count": 21,
   "id": "d159a6a8",
   "metadata": {},
   "outputs": [
    {
     "data": {
      "image/png": "[encoded data removed]",
      "text/plain": [
       "<Figure size 640x480 with 1 Axes>"
      ]
     },
     "metadata": {},
     "output_type": "display_data"
    }
   ],
   "source": [
    "import matplotlib.pyplot as plt\n",
    "\n",
    "plt.plot(history.history['loss'], label='Training Loss')\n",
    "plt.plot(history.history['val_loss'], label='Validation Loss')\n",
    "plt.legend()\n",
    "plt.show()\n"
   ]
  },
  {
   "cell_type": "code",
   "execution_count": null,
   "id": "c94de165",
   "metadata": {},
   "outputs": [],
   "source": []
  }
 ],
 "metadata": {
  "kernelspec": {
   "display_name": "Python 3 (ipykernel)",
   "language": "python",
   "name": "python3"
  },
  "language_info": {
   "codemirror_mode": {
    "name": "ipython",
    "version": 3
   },
   "file_extension": ".py",
   "mimetype": "text/x-python",
   "name": "python",
   "nbconvert_exporter": "python",
   "pygments_lexer": "ipython3",
   "version": "3.11.2"
  }
 },
 "nbformat": 4,
 "nbformat_minor": 5
}
